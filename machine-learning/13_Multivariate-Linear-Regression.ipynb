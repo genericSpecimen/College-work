{
 "cells": [
  {
   "cell_type": "code",
   "execution_count": 1,
   "metadata": {},
   "outputs": [],
   "source": [
    "from sklearn import preprocessing\n",
    "from sklearn.datasets import load_boston\n",
    "from sklearn.model_selection import train_test_split\n",
    "from sklearn.linear_model import LinearRegression\n",
    "from sklearn.metrics import mean_squared_error\n",
    "\n",
    "import numpy as np"
   ]
  },
  {
   "cell_type": "code",
   "execution_count": 2,
   "metadata": {},
   "outputs": [],
   "source": [
    "boston_data = load_boston()"
   ]
  },
  {
   "cell_type": "code",
   "execution_count": 3,
   "metadata": {},
   "outputs": [],
   "source": [
    "# all attributes are to be used\n",
    "X = boston_data.data\n",
    "y = boston_data.target\n",
    "\n",
    "X = preprocessing.scale(X)"
   ]
  },
  {
   "cell_type": "code",
   "execution_count": 4,
   "metadata": {},
   "outputs": [],
   "source": [
    "# train test split (60 - 40)\n",
    "X_train, X_test, y_train, y_test = train_test_split(X, y, test_size = 0.4, random_state = 5)"
   ]
  },
  {
   "cell_type": "code",
   "execution_count": 5,
   "metadata": {},
   "outputs": [
    {
     "name": "stdout",
     "output_type": "stream",
     "text": [
      "Dimensions of X: (506, 13), of y: (506,)\n",
      "Dimensions of X_train: (303, 13), of y_train: (303,)\n",
      "Dimensions of X_test: (203, 13), of y_test: (203,)\n"
     ]
    }
   ],
   "source": [
    "print(f\"Dimensions of X: {X.shape}, of y: {y.shape}\")\n",
    "print(f\"Dimensions of X_train: {X_train.shape}, of y_train: {y_train.shape}\")\n",
    "print(f\"Dimensions of X_test: {X_test.shape}, of y_test: {y_test.shape}\")"
   ]
  },
  {
   "cell_type": "code",
   "execution_count": 6,
   "metadata": {},
   "outputs": [],
   "source": [
    "# fit using the training set\n",
    "lin_reg = LinearRegression().fit(X_train, y_train)"
   ]
  },
  {
   "cell_type": "code",
   "execution_count": 7,
   "metadata": {},
   "outputs": [],
   "source": [
    "# make prediction using test set\n",
    "y_pred = lin_reg.predict(X_test)"
   ]
  },
  {
   "cell_type": "code",
   "execution_count": 8,
   "metadata": {},
   "outputs": [
    {
     "name": "stdout",
     "output_type": "stream",
     "text": [
      "\n",
      "------------ Performance Report ------------\n",
      "    Training set:\n",
      "        Mean squared error = 18.893207583229785\n",
      "        R2 score = 0.7647462805122287\n",
      "    Test set:\n",
      "        Mean squared error = 29.031958421325008\n",
      "        R2 score = 0.6793836995445846\n",
      "--------------------------------------------\n",
      "\n"
     ]
    }
   ],
   "source": [
    "mse_train = mean_squared_error(y_train, lin_reg.predict(X_train))\n",
    "r2_train = lin_reg.score(X_train, y_train)\n",
    "\n",
    "mse_test = mean_squared_error(y_test, y_pred)\n",
    "r2_test = lin_reg.score(X_test, y_test)\n",
    "\n",
    "perf_report = \"\"\"\n",
    "------------ Performance Report ------------\n",
    "    Training set:\n",
    "        Mean squared error = {}\n",
    "        R2 score = {}\n",
    "    Test set:\n",
    "        Mean squared error = {}\n",
    "        R2 score = {}\n",
    "--------------------------------------------\n",
    "\"\"\"\n",
    "print(perf_report.format(mse_train, r2_train, mse_test, r2_test))"
   ]
  },
  {
   "cell_type": "code",
   "execution_count": null,
   "metadata": {},
   "outputs": [],
   "source": []
  },
  {
   "cell_type": "code",
   "execution_count": null,
   "metadata": {},
   "outputs": [],
   "source": []
  }
 ],
 "metadata": {
  "kernelspec": {
   "display_name": "Python 3",
   "language": "python",
   "name": "python3"
  },
  "language_info": {
   "codemirror_mode": {
    "name": "ipython",
    "version": 3
   },
   "file_extension": ".py",
   "mimetype": "text/x-python",
   "name": "python",
   "nbconvert_exporter": "python",
   "pygments_lexer": "ipython3",
   "version": "3.8.2"
  }
 },
 "nbformat": 4,
 "nbformat_minor": 4
}
