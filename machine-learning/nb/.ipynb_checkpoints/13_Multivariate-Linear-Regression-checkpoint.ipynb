{
 "cells": [
  {
   "cell_type": "code",
   "execution_count": 64,
   "metadata": {},
   "outputs": [],
   "source": [
    "from sklearn.datasets import load_boston\n",
    "from sklearn.model_selection import train_test_split\n",
    "from sklearn.linear_model import LinearRegression\n",
    "from sklearn.metrics import mean_squared_error\n",
    "\n",
    "import matplotlib.pyplot as plt\n",
    "\n",
    "import numpy as np"
   ]
  },
  {
   "cell_type": "code",
   "execution_count": 70,
   "metadata": {},
   "outputs": [],
   "source": [
    "boston_data = load_boston()"
   ]
  },
  {
   "cell_type": "code",
   "execution_count": 89,
   "metadata": {},
   "outputs": [],
   "source": [
    "# only the room attribute (column index 5) will be used\n",
    "X = boston_data.data[:, 5].reshape(-1,1)\n",
    "y = boston_data.target.reshape(-1,1)"
   ]
  },
  {
   "cell_type": "code",
   "execution_count": 80,
   "metadata": {},
   "outputs": [],
   "source": [
    "# train test split (60 - 40)\n",
    "X_train, X_test, y_train, y_test = train_test_split(X, y, test_size = 0.4, random_state = 5)"
   ]
  },
  {
   "cell_type": "code",
   "execution_count": 82,
   "metadata": {},
   "outputs": [
    {
     "name": "stdout",
     "output_type": "stream",
     "text": [
      "Dimensions of X: (506, 1), of y: (506, 1)\n",
      "Dimensions of X_train: (303, 1), of y_train: (303, 1)\n",
      "Dimensions of X_test: (203, 1), of y_test: (203, 1)\n"
     ]
    }
   ],
   "source": [
    "print(f\"Dimensions of X: {X.shape}, of y: {y.shape}\")\n",
    "print(f\"Dimensions of X_train: {X_train.shape}, of y_train: {y_train.shape}\")\n",
    "print(f\"Dimensions of X_test: {X_test.shape}, of y_test: {y_test.shape}\")"
   ]
  },
  {
   "cell_type": "code",
   "execution_count": 92,
   "metadata": {},
   "outputs": [],
   "source": [
    "# fit using the training set\n",
    "lin_reg = LinearRegression().fit(X_train, y_train)"
   ]
  },
  {
   "cell_type": "code",
   "execution_count": 93,
   "metadata": {},
   "outputs": [],
   "source": [
    "# make prediction using test set\n",
    "y_pred = lin_reg.predict(X_test)"
   ]
  },
  {
   "cell_type": "code",
   "execution_count": 96,
   "metadata": {},
   "outputs": [
    {
     "data": {
      "image/png": "[encoded data removed]",
      "text/plain": [
       "<Figure size 432x288 with 1 Axes>"
      ]
     },
     "metadata": {
      "needs_background": "light"
     },
     "output_type": "display_data"
    }
   ],
   "source": [
    "plt.title('Linear Regression fit with least squares approach')\n",
    "plt.ylabel('Value of house in $1000s')\n",
    "plt.xlabel('No. of rooms')\n",
    "\n",
    "# plot all original examples (train + test) using a scatter plot\n",
    "plt.scatter(X, y, s=5)\n",
    "\n",
    "# plot the fitted line with y_vals equal to the model's prediction\n",
    "x_vals = np.linspace(min(X), max(X))\n",
    "y_vals = lin_reg.predict(x_vals)\n",
    "plt.plot(x_vals, y_vals)\n",
    "plt.show()"
   ]
  },
  {
   "cell_type": "code",
   "execution_count": 98,
   "metadata": {},
   "outputs": [
    {
     "name": "stdout",
     "output_type": "stream",
     "text": [
      "\n",
      "------------ Performance Report ------------\n",
      "    Training set:\n",
      "        Mean squared error = 39.1861491088001\n",
      "        R2 score = 0.5120634074634083\n",
      "    Test set:\n",
      "        Mean squared error = 50.24491726318198\n",
      "        R2 score = 0.4451170239422443\n",
      "--------------------------------------------\n",
      "\n"
     ]
    }
   ],
   "source": [
    "mse_train = mean_squared_error(y_train, lin_reg.predict(X_train))\n",
    "r2_train = lin_reg.score(X_train, y_train)\n",
    "mse_test = mean_squared_error(y_test, y_pred)\n",
    "r2_test = lin_reg.score(X_test, y_test)\n",
    "\n",
    "perf_report = \"\"\"\n",
    "------------ Performance Report ------------\n",
    "    Training set:\n",
    "        Mean squared error = {}\n",
    "        R2 score = {}\n",
    "    Test set:\n",
    "        Mean squared error = {}\n",
    "        R2 score = {}\n",
    "--------------------------------------------\n",
    "\"\"\"\n",
    "print(perf_report.format(mse_train, r2_train, mse_test, r2_test))"
   ]
  },
  {
   "cell_type": "code",
   "execution_count": null,
   "metadata": {},
   "outputs": [],
   "source": []
  },
  {
   "cell_type": "code",
   "execution_count": null,
   "metadata": {},
   "outputs": [],
   "source": []
  }
 ],
 "metadata": {
  "kernelspec": {
   "display_name": "Python 3",
   "language": "python",
   "name": "python3"
  },
  "language_info": {
   "codemirror_mode": {
    "name": "ipython",
    "version": 3
   },
   "file_extension": ".py",
   "mimetype": "text/x-python",
   "name": "python",
   "nbconvert_exporter": "python",
   "pygments_lexer": "ipython3",
   "version": "3.8.2"
  }
 },
 "nbformat": 4,
 "nbformat_minor": 4
}
